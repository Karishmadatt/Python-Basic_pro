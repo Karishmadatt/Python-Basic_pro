{
 "metadata": {
  "language_info": {
   "codemirror_mode": {
    "name": "ipython",
    "version": 3
   },
   "file_extension": ".py",
   "mimetype": "text/x-python",
   "name": "python",
   "nbconvert_exporter": "python",
   "pygments_lexer": "ipython3",
   "version": "3.8.8"
  },
  "orig_nbformat": 4,
  "kernelspec": {
   "name": "python3",
   "display_name": "Python 3.8.8 64-bit ('kdsem4': conda)"
  },
  "interpreter": {
   "hash": "f638250139be9a7c4fc7129375f7add91c1e67f6b205156f1b8d88bd9668eabc"
  }
 },
 "nbformat": 4,
 "nbformat_minor": 2,
 "cells": [
  {
   "source": [
    "1. Write a Python Program to find sum of array?"
   ],
   "cell_type": "markdown",
   "metadata": {}
  },
  {
   "cell_type": "code",
   "execution_count": 1,
   "metadata": {},
   "outputs": [
    {
     "output_type": "stream",
     "name": "stdout",
     "text": [
      "15\n"
     ]
    }
   ],
   "source": [
    "arr=[]\n",
    "n=int(input(\"Enter the number\"))\n",
    "temp=0\n",
    "sum=0\n",
    "for i in range (0,n):\n",
    "    temp=int(input())\n",
    "    arr.append(temp)\n",
    "for i in arr:\n",
    "    sum+=i\n",
    "print(sum)\n"
   ]
  },
  {
   "source": [
    "2. Write a Python Program to find largest element in an array?"
   ],
   "cell_type": "markdown",
   "metadata": {}
  },
  {
   "cell_type": "code",
   "execution_count": 2,
   "metadata": {},
   "outputs": [
    {
     "output_type": "stream",
     "name": "stdout",
     "text": [
      "5\n"
     ]
    }
   ],
   "source": [
    "arr=[]\n",
    "n=int(input(\"Enter the number\"))\n",
    "temp=0\n",
    "sum=0\n",
    "for i in range (0,n):\n",
    "    temp=int(input())\n",
    "    arr.append(temp)\n",
    "arr.sort()\n",
    "print(arr[-1])\n"
   ]
  },
  {
   "source": [
    "3. Write a Python Program for array rotation?"
   ],
   "cell_type": "markdown",
   "metadata": {}
  },
  {
   "cell_type": "code",
   "execution_count": 4,
   "metadata": {},
   "outputs": [
    {
     "output_type": "stream",
     "name": "stdout",
     "text": [
      "[2, 3, 4, 5, 5]\n[3, 4, 5, 5, 2]\n"
     ]
    }
   ],
   "source": [
    "arr=[]\n",
    "n=int(input(\"Enter the number\"))\n",
    "mr=int(input())\n",
    "temp=0\n",
    "sum=0\n",
    "for i in range (0,n):\n",
    "    temp=int(input())\n",
    "    arr.append(temp)\n",
    "print(arr)\n",
    "arr[:]=arr[mr:n]+arr[0:mr]\n",
    "print(arr)"
   ]
  },
  {
   "source": [
    "4. Write a Python Program to Split the array and add the first part to the end?"
   ],
   "cell_type": "markdown",
   "metadata": {}
  },
  {
   "cell_type": "code",
   "execution_count": 11,
   "metadata": {},
   "outputs": [
    {
     "output_type": "stream",
     "name": "stdout",
     "text": [
      "1 2 3 4 5 \n3 4 5 1 2 "
     ]
    }
   ],
   "source": [
    "arr=[]\n",
    "n=int(input(\"Enter the number\"))\n",
    "mr=int(input())\n",
    "temp=0\n",
    "sum=0\n",
    "for i in range (0,n):\n",
    "    temp=int(input())\n",
    "    arr.append(temp)\n",
    "for i in arr:\n",
    "    print(i,end=' ')\n",
    "arr[:]=arr[mr:n]+arr[0:mr]\n",
    "print()\n",
    "for i in arr:\n",
    "    print(i,end=' ')"
   ]
  },
  {
   "source": [
    "5. Write a Python Program to check if given array is Monotonic?"
   ],
   "cell_type": "markdown",
   "metadata": {}
  },
  {
   "cell_type": "code",
   "execution_count": 12,
   "metadata": {},
   "outputs": [
    {
     "output_type": "stream",
     "name": "stdout",
     "text": [
      "True\n"
     ]
    }
   ],
   "source": [
    "\n",
    "def isMonotonic(A):\n",
    "\n",
    "\treturn (all(A[i] <= A[i + 1] for i in range(len(A) - 1)) or\n",
    "\t\t\tall(A[i] >= A[i + 1] for i in range(len(A) - 1)))\n",
    "\n",
    "if __name__ == \"__main__\":\n",
    "    A=[]\n",
    "    n=int(input(\"Enter the number\"))\n",
    "    temp=0\n",
    "    for i in range (0,n):\n",
    "        temp=int(input())\n",
    "        arr.append(temp)\n",
    "        \n",
    "\n",
    "print(isMonotonic(A))"
   ]
  },
  {
   "cell_type": "code",
   "execution_count": null,
   "metadata": {},
   "outputs": [],
   "source": []
  }
 ]
}