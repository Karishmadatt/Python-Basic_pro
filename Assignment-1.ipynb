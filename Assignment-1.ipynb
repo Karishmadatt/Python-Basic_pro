{
 "metadata": {
  "language_info": {
   "codemirror_mode": {
    "name": "ipython",
    "version": 3
   },
   "file_extension": ".py",
   "mimetype": "text/x-python",
   "name": "python",
   "nbconvert_exporter": "python",
   "pygments_lexer": "ipython3",
   "version": "3.8.8"
  },
  "orig_nbformat": 4,
  "kernelspec": {
   "name": "python3",
   "display_name": "Python 3.8.8 64-bit ('kdsem4': conda)"
  },
  "interpreter": {
   "hash": "f638250139be9a7c4fc7129375f7add91c1e67f6b205156f1b8d88bd9668eabc"
  }
 },
 "nbformat": 4,
 "nbformat_minor": 2,
 "cells": [
  {
   "source": [
    "1.Write a program to print \"Hello Python\""
   ],
   "cell_type": "markdown",
   "metadata": {}
  },
  {
   "cell_type": "code",
   "execution_count": 1,
   "metadata": {},
   "outputs": [
    {
     "output_type": "stream",
     "name": "stdout",
     "text": [
      "Hello Python\n"
     ]
    }
   ],
   "source": [
    "print(\"Hello Python\")"
   ]
  },
  {
   "source": [
    "2. Write a Python program to do arithmetical operations addition and division.?"
   ],
   "cell_type": "markdown",
   "metadata": {}
  },
  {
   "cell_type": "code",
   "execution_count": 4,
   "metadata": {},
   "outputs": [
    {
     "output_type": "stream",
     "name": "stdout",
     "text": [
      "7\n2.5\n"
     ]
    }
   ],
   "source": [
    "a=5\n",
    "b=2\n",
    "add=a+b\n",
    "div=a/b\n",
    "print(add)\n",
    "print(div)"
   ]
  },
  {
   "source": [
    "3. Write a Python program to find the area of a triangle?"
   ],
   "cell_type": "markdown",
   "metadata": {}
  },
  {
   "cell_type": "code",
   "execution_count": 5,
   "metadata": {},
   "outputs": [
    {
     "output_type": "stream",
     "name": "stdout",
     "text": [
      "3.0\n"
     ]
    }
   ],
   "source": [
    "base=int(input())\n",
    "height=int(input())\n",
    "ans=(base*height)/2\n",
    "print(float(ans))"
   ]
  },
  {
   "source": [
    "4. Write a Python program to swap two variables?"
   ],
   "cell_type": "markdown",
   "metadata": {}
  },
  {
   "cell_type": "code",
   "execution_count": 6,
   "metadata": {},
   "outputs": [
    {
     "output_type": "stream",
     "name": "stdout",
     "text": [
      "hat\nkat\n"
     ]
    }
   ],
   "source": [
    "var1=input()\n",
    "var2=input()\n",
    "temp=var1\n",
    "var1=var2\n",
    "var2=temp\n",
    "print(var1)\n",
    "print(var2)"
   ]
  },
  {
   "source": [
    "5. Write a Python program to generate a random number?"
   ],
   "cell_type": "markdown",
   "metadata": {}
  },
  {
   "cell_type": "code",
   "execution_count": 10,
   "metadata": {},
   "outputs": [
    {
     "output_type": "stream",
     "name": "stdout",
     "text": [
      "29\n"
     ]
    }
   ],
   "source": [
    "import random\n",
    "print(random.randint(0,101))"
   ]
  }
 ]
}