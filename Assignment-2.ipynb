{
 "metadata": {
  "language_info": {
   "codemirror_mode": {
    "name": "ipython",
    "version": 3
   },
   "file_extension": ".py",
   "mimetype": "text/x-python",
   "name": "python",
   "nbconvert_exporter": "python",
   "pygments_lexer": "ipython3",
   "version": "3.8.8"
  },
  "orig_nbformat": 4,
  "kernelspec": {
   "name": "python3",
   "display_name": "Python 3.8.8 64-bit ('kdsem4': conda)"
  },
  "interpreter": {
   "hash": "f638250139be9a7c4fc7129375f7add91c1e67f6b205156f1b8d88bd9668eabc"
  }
 },
 "nbformat": 4,
 "nbformat_minor": 2,
 "cells": [
  {
   "source": [
    "1. Write a Python program to convert kilometers to miles?"
   ],
   "cell_type": "markdown",
   "metadata": {}
  },
  {
   "cell_type": "code",
   "execution_count": 1,
   "metadata": {},
   "outputs": [
    {
     "output_type": "stream",
     "name": "stdout",
     "text": [
      "27.961695\n"
     ]
    }
   ],
   "source": [
    "a=float(input())\n",
    "b=0.621371\n",
    "ans=a*b\n",
    "print(ans)"
   ]
  },
  {
   "source": [
    "2. Write a Python program to convert Celsius to Fahrenheit?"
   ],
   "cell_type": "markdown",
   "metadata": {}
  },
  {
   "cell_type": "code",
   "execution_count": 9,
   "metadata": {},
   "outputs": [
    {
     "output_type": "stream",
     "name": "stdout",
     "text": [
      "99.5F\n"
     ]
    }
   ],
   "source": [
    "\n",
    "a=float(input())\n",
    "cel=37.5\n",
    "ans=(cel*1.8)+32\n",
    "print(ans,end='')\n",
    "print('F')"
   ]
  },
  {
   "source": [
    "3. Write a Python program to display calendar?"
   ],
   "cell_type": "markdown",
   "metadata": {}
  },
  {
   "cell_type": "code",
   "execution_count": 12,
   "metadata": {},
   "outputs": [
    {
     "output_type": "stream",
     "name": "stdout",
     "text": [
      "    August 2021\nMo Tu We Th Fr Sa Su\n                   1\n 2  3  4  5  6  7  8\n 9 10 11 12 13 14 15\n16 17 18 19 20 21 22\n23 24 25 26 27 28 29\n30 31\n\n"
     ]
    }
   ],
   "source": [
    "import calendar\n",
    "y=int(input(\"Enter the Year: \"))\n",
    "m=int(input(\"Enter the month: \"))\n",
    "print(calendar.month(y,m))"
   ]
  },
  {
   "source": [
    "4. Write a Python program to solve quadratic equation?"
   ],
   "cell_type": "markdown",
   "metadata": {}
  },
  {
   "cell_type": "code",
   "execution_count": 14,
   "metadata": {},
   "outputs": [
    {
     "output_type": "stream",
     "name": "stdout",
     "text": [
      "The solution is (-1+1.4142135623730951j) and (-1-1.4142135623730951j)\n"
     ]
    }
   ],
   "source": [
    "import cmath\n",
    "a=float(input(\"Enter the value of a : \"))\n",
    "b=float(input(\"Enter the value of b : \"))\n",
    "c=float(input(\"Enter the value of c : \"))\n",
    "d=(b**2)-4*a*c\n",
    "pos=(-b+cmath.sqrt(d))/2*a\n",
    "neg=(-b-cmath.sqrt(d))/2*a\n",
    "print(\"The solution is {} and {}\".format(pos,neg))"
   ]
  },
  {
   "source": [
    "5. Write a Python program to swap two variables without temp variable?"
   ],
   "cell_type": "markdown",
   "metadata": {}
  },
  {
   "cell_type": "code",
   "execution_count": 19,
   "metadata": {},
   "outputs": [
    {
     "output_type": "stream",
     "name": "stdout",
     "text": [
      "('hat', 'cat')\n"
     ]
    }
   ],
   "source": [
    "def swap(var1,var2):\n",
    "    return var2,var1\n",
    "var1=input()\n",
    "var2=input()\n",
    "print(swap(var1,var2))"
   ]
  },
  {
   "cell_type": "code",
   "execution_count": null,
   "metadata": {},
   "outputs": [],
   "source": []
  }
 ]
}