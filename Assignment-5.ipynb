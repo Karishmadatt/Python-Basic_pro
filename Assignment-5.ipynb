{
 "metadata": {
  "language_info": {
   "codemirror_mode": {
    "name": "ipython",
    "version": 3
   },
   "file_extension": ".py",
   "mimetype": "text/x-python",
   "name": "python",
   "nbconvert_exporter": "python",
   "pygments_lexer": "ipython3",
   "version": "3.8.8"
  },
  "orig_nbformat": 4,
  "kernelspec": {
   "name": "python3",
   "display_name": "Python 3.8.8 64-bit ('kdsem4': conda)"
  },
  "interpreter": {
   "hash": "f638250139be9a7c4fc7129375f7add91c1e67f6b205156f1b8d88bd9668eabc"
  }
 },
 "nbformat": 4,
 "nbformat_minor": 2,
 "cells": [
  {
   "source": [
    "1. Write a Python Program to Find LCM?"
   ],
   "cell_type": "markdown",
   "metadata": {}
  },
  {
   "cell_type": "code",
   "execution_count": 6,
   "metadata": {},
   "outputs": [
    {
     "output_type": "stream",
     "name": "stdout",
     "text": [
      "150.0\n"
     ]
    }
   ],
   "source": [
    "import math\n",
    "n1=int(input(\"Enter the number 1\"))\n",
    "n2=int(input(\"Enter the number 2\"))\n",
    "k=math.gcd(n1,n2)\n",
    "# print(k)\n",
    "print((n1*n2)/(k))\n",
    "\n"
   ]
  },
  {
   "source": [
    "2. Write a Python Program to Find HCF?"
   ],
   "cell_type": "markdown",
   "metadata": {}
  },
  {
   "cell_type": "code",
   "execution_count": 7,
   "metadata": {},
   "outputs": [
    {
     "output_type": "stream",
     "name": "stdout",
     "text": [
      "15\n"
     ]
    }
   ],
   "source": [
    "import math\n",
    "n1=int(input(\"Enter the number 1\"))\n",
    "n2=int(input(\"Enter the number 2\"))\n",
    "k=math.gcd(n1,n2)\n",
    "print(k)"
   ]
  },
  {
   "source": [
    "3. Write a Python Program to Convert Decimal to Binary, Octal and Hexadecimal?"
   ],
   "cell_type": "markdown",
   "metadata": {}
  },
  {
   "cell_type": "code",
   "execution_count": 14,
   "metadata": {},
   "outputs": [
    {
     "output_type": "stream",
     "name": "stdout",
     "text": [
      "01000\na53\n"
     ]
    }
   ],
   "source": [
    "def fun(n):\n",
    "    if(n>=1):\n",
    "        fun(n//2)\n",
    "    print(n%2 , end='')\n",
    "\n",
    "if __name__ == \"__main__\":\n",
    "    n=int(input(\"Enter the decimal Number\"))\n",
    "    fun(n)\n",
    "    b=\"5123\"\n",
    "    decnum = int(b, 8)\n",
    "    hexadecimal = hex(decnum).replace(\"0x\", \"\")\n",
    "    print()\n",
    "    print(hexadecimal)\n"
   ]
  },
  {
   "source": [
    "4. Write a Python Program To Find ASCII value of a character?"
   ],
   "cell_type": "markdown",
   "metadata": {}
  },
  {
   "cell_type": "code",
   "execution_count": 17,
   "metadata": {},
   "outputs": [
    {
     "output_type": "stream",
     "name": "stdout",
     "text": [
      "The ASCII value for a is 97\n"
     ]
    }
   ],
   "source": [
    "a=input(\"Enter the character\")\n",
    "print(\"The ASCII value for {} is {}\".format(a,ord(a)))"
   ]
  },
  {
   "source": [
    "5. Write a Python Program to Make a Simple Calculator with 4 basic mathematical operations?"
   ],
   "cell_type": "markdown",
   "metadata": {}
  },
  {
   "cell_type": "code",
   "execution_count": 18,
   "metadata": {},
   "outputs": [
    {
     "output_type": "stream",
     "name": "stdout",
     "text": [
      "1.Addition\n",
      "2.Substraction\n",
      "3.Multiplication\n",
      "4.Division\n",
      "6\n"
     ]
    }
   ],
   "source": [
    "a=int(input(\"Enter the number 1\"))\n",
    "b=int(input(\"Enter the number 2\"))\n",
    "print(\"1.Addition\")\n",
    "print(\"2.Substraction\")\n",
    "print(\"3.Multiplication\")\n",
    "print(\"4.Division\")\n",
    "while True:\n",
    "    choice=int(input(\"Enter the choice\"))\n",
    "    if(choice==1):\n",
    "        print(a+b)\n",
    "    if(choice==2):\n",
    "        print(a-b)\n",
    "    if(choice==3):\n",
    "        print(a*b)\n",
    "    if(choice==4):\n",
    "        print(a/b)\n",
    "    break"
   ]
  },
  {
   "cell_type": "code",
   "execution_count": null,
   "metadata": {},
   "outputs": [],
   "source": []
  }
 ]
}