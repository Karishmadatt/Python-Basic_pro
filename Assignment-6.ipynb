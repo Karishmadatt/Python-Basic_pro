{
 "metadata": {
  "language_info": {
   "codemirror_mode": {
    "name": "ipython",
    "version": 3
   },
   "file_extension": ".py",
   "mimetype": "text/x-python",
   "name": "python",
   "nbconvert_exporter": "python",
   "pygments_lexer": "ipython3",
   "version": "3.8.8"
  },
  "orig_nbformat": 4,
  "kernelspec": {
   "name": "python3",
   "display_name": "Python 3.8.8 64-bit ('kdsem4': conda)"
  },
  "interpreter": {
   "hash": "f638250139be9a7c4fc7129375f7add91c1e67f6b205156f1b8d88bd9668eabc"
  }
 },
 "nbformat": 4,
 "nbformat_minor": 2,
 "cells": [
  {
   "source": [
    "1. Write a Python Program to Display Fibonacci Sequence Using Recursion?"
   ],
   "cell_type": "markdown",
   "metadata": {}
  },
  {
   "cell_type": "code",
   "execution_count": 1,
   "metadata": {},
   "outputs": [
    {
     "output_type": "stream",
     "name": "stdout",
     "text": [
      "5\n"
     ]
    }
   ],
   "source": [
    "def fib(n):\n",
    "    if n<=2:\n",
    "        return 1\n",
    "    return fib(n-1)+fib(n-2)\n",
    "\n",
    "if __name__ == \"__main__\":\n",
    "    a=int(input(\"Enter the number\"))\n",
    "    print(fib(a))"
   ]
  },
  {
   "source": [
    "2. Write a Python Program to Find Factorial of Number Using Recursion?"
   ],
   "cell_type": "markdown",
   "metadata": {}
  },
  {
   "cell_type": "code",
   "execution_count": 2,
   "metadata": {},
   "outputs": [
    {
     "output_type": "stream",
     "name": "stdout",
     "text": [
      "120\n"
     ]
    }
   ],
   "source": [
    "def fact(n):\n",
    "    if n==1:\n",
    "        return 1\n",
    "    return n*fact(n-1)\n",
    "\n",
    "if __name__ == \"__main__\":\n",
    "    a=int(input(\"Enter the number\"))\n",
    "    print(fact(a))"
   ]
  },
  {
   "source": [
    "3. Write a Python Program to calculate your Body Mass Index?"
   ],
   "cell_type": "markdown",
   "metadata": {}
  },
  {
   "cell_type": "code",
   "execution_count": 4,
   "metadata": {},
   "outputs": [
    {
     "output_type": "stream",
     "name": "stdout",
     "text": [
      "Your Body Mass Index is 1.6\n"
     ]
    }
   ],
   "source": [
    "h=float(input(\"Enter your height in feet\"))\n",
    "w=float(input(\"Enter your weight in kg\"))\n",
    "ans=round((w)/(h*h),2)\n",
    "print(\"Your Body Mass Index is {}\".format(ans))"
   ]
  },
  {
   "source": [
    "4. Write a Python Program to calculate the natural logarithm of any number?"
   ],
   "cell_type": "markdown",
   "metadata": {}
  },
  {
   "cell_type": "code",
   "execution_count": 6,
   "metadata": {},
   "outputs": [
    {
     "output_type": "stream",
     "name": "stdout",
     "text": [
      "Logarithm base 2 of 14 is 3.807354922057604\n"
     ]
    }
   ],
   "source": [
    "import math\n",
    "a= int(input(\"Enter the number\"))\n",
    "print(\"Logarithm base 2 of {} is {}\".format(a,math.log2(a)))"
   ]
  },
  {
   "source": [
    "5. Write a Python Program for cube sum of first n natural numbers?"
   ],
   "cell_type": "markdown",
   "metadata": {}
  },
  {
   "cell_type": "code",
   "execution_count": 7,
   "metadata": {},
   "outputs": [
    {
     "output_type": "stream",
     "name": "stdout",
     "text": [
      "36\n"
     ]
    }
   ],
   "source": [
    "n= int(input(\"Enter the number\"))\n",
    "sum=0\n",
    "for i in range (1,n+1):\n",
    "    sum+=i**3\n",
    "print(sum)"
   ]
  },
  {
   "cell_type": "code",
   "execution_count": null,
   "metadata": {},
   "outputs": [],
   "source": []
  }
 ]
}