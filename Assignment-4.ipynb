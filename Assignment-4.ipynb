{
 "metadata": {
  "language_info": {
   "codemirror_mode": {
    "name": "ipython",
    "version": 3
   },
   "file_extension": ".py",
   "mimetype": "text/x-python",
   "name": "python",
   "nbconvert_exporter": "python",
   "pygments_lexer": "ipython3",
   "version": "3.8.8"
  },
  "orig_nbformat": 4,
  "kernelspec": {
   "name": "python3",
   "display_name": "Python 3.8.8 64-bit ('kdsem4': conda)"
  },
  "interpreter": {
   "hash": "f638250139be9a7c4fc7129375f7add91c1e67f6b205156f1b8d88bd9668eabc"
  }
 },
 "nbformat": 4,
 "nbformat_minor": 2,
 "cells": [
  {
   "source": [
    "1. Write a Python Program to Find the Factorial of a Number?"
   ],
   "cell_type": "markdown",
   "metadata": {}
  },
  {
   "cell_type": "code",
   "execution_count": 3,
   "metadata": {},
   "outputs": [
    {
     "output_type": "stream",
     "name": "stdout",
     "text": [
      "120\n"
     ]
    }
   ],
   "source": [
    "def fact(n):\n",
    "    if n==1:\n",
    "        return 1\n",
    "    else:\n",
    "       return n*fact(n-1)\n",
    "if __name__ == \"__main__\":\n",
    "    a=int(input())\n",
    "    print(fact(a))"
   ]
  },
  {
   "source": [
    "2. Write a Python Program to Display the multiplication Table?"
   ],
   "cell_type": "markdown",
   "metadata": {}
  },
  {
   "cell_type": "code",
   "execution_count": 5,
   "metadata": {},
   "outputs": [
    {
     "output_type": "stream",
     "name": "stdout",
     "text": [
      "2 x 1 = 2\n2 x 2 = 4\n2 x 3 = 6\n2 x 4 = 8\n2 x 5 = 10\n2 x 6 = 12\n2 x 7 = 14\n2 x 8 = 16\n2 x 9 = 18\n2 x 10 = 20\n"
     ]
    }
   ],
   "source": [
    "a=int(input())\n",
    "for i in range (1,11):\n",
    "    print(a, \"x\", i, \"=\", a*i )\n"
   ]
  },
  {
   "source": [
    "3. Write a Python Program to Print the Fibonacci sequence?"
   ],
   "cell_type": "markdown",
   "metadata": {}
  },
  {
   "cell_type": "code",
   "execution_count": 6,
   "metadata": {},
   "outputs": [
    {
     "output_type": "stream",
     "name": "stdout",
     "text": [
      "0\n1\n1\n2\n3\n"
     ]
    }
   ],
   "source": [
    "n1=0\n",
    "n2=1\n",
    "count=0\n",
    "a=int(input(\"Enter the number: \"))\n",
    "while count < a:\n",
    "       print(n1)\n",
    "       nth = n1 + n2\n",
    "       n1 = n2\n",
    "       n2 = nth\n",
    "       count += 1"
   ]
  },
  {
   "source": [
    "4. Write a Python Program to Check Armstrong Number?"
   ],
   "cell_type": "markdown",
   "metadata": {}
  },
  {
   "cell_type": "code",
   "execution_count": 7,
   "metadata": {},
   "outputs": [
    {
     "output_type": "stream",
     "name": "stdout",
     "text": [
      "663 is not an Armstrong number\n"
     ]
    }
   ],
   "source": [
    "a = int(input(\"Enter a number: \"))\n",
    "sum = 0\n",
    "temp = a\n",
    "while temp > 0:\n",
    "   digit = temp % 10\n",
    "   sum += digit ** 3\n",
    "   temp //= 10 \n",
    "if a == sum:\n",
    "   print(a,\"is an Armstrong number\")\n",
    "else:\n",
    "   print(a,\"is not an Armstrong number\")"
   ]
  },
  {
   "source": [
    "5. Write a Python Program to Find Armstrong Number in an Interval?"
   ],
   "cell_type": "markdown",
   "metadata": {}
  },
  {
   "cell_type": "code",
   "execution_count": 12,
   "metadata": {},
   "outputs": [
    {
     "output_type": "stream",
     "name": "stdout",
     "text": [
      "153\n370\n371\n407\n1634\n"
     ]
    }
   ],
   "source": [
    "low = int(input(\"Enter the lower bound : \"))\n",
    "up = int(input(\"Enter the upper bound : \"))\n",
    "\n",
    "for i in range(low, up + 1):\n",
    "   a = len(str(i))\n",
    "   sum = 0\n",
    "   temp = i\n",
    "   while temp > 0:\n",
    "       digit = temp % 10\n",
    "       sum += digit ** a\n",
    "       temp //= 10\n",
    "\n",
    "   if i == sum:\n",
    "       print(i)\n"
   ]
  },
  {
   "source": [
    "6. Write a Python Program to Find the Sum of Natural Numbers?"
   ],
   "cell_type": "markdown",
   "metadata": {}
  },
  {
   "cell_type": "code",
   "execution_count": 14,
   "metadata": {},
   "outputs": [
    {
     "output_type": "stream",
     "name": "stdout",
     "text": [
      "28\n"
     ]
    }
   ],
   "source": [
    "n=int(input())\n",
    "ans=int((n*(n+1))/2)\n",
    "print(ans)"
   ]
  },
  {
   "cell_type": "code",
   "execution_count": null,
   "metadata": {},
   "outputs": [],
   "source": []
  }
 ]
}